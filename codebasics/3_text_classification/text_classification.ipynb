{
 "cells": [
  {
   "cell_type": "code",
   "execution_count": 15,
   "metadata": {},
   "outputs": [],
   "source": [
    "import numpy as np\n",
    "import tensorflow as tf"
   ]
  },
  {
   "cell_type": "code",
   "execution_count": 16,
   "metadata": {},
   "outputs": [],
   "source": [
    "import tensorflow_hub as hub\n",
    "import tensorflow_datasets as tfds"
   ]
  },
  {
   "cell_type": "code",
   "execution_count": 17,
   "metadata": {},
   "outputs": [
    {
     "data": {
      "text/plain": [
       "'2.1.0'"
      ]
     },
     "execution_count": 17,
     "metadata": {},
     "output_type": "execute_result"
    }
   ],
   "source": [
    "tf.__version__"
   ]
  },
  {
   "cell_type": "code",
   "execution_count": 18,
   "metadata": {},
   "outputs": [
    {
     "data": {
      "text/plain": [
       "'0.7.0'"
      ]
     },
     "execution_count": 18,
     "metadata": {},
     "output_type": "execute_result"
    }
   ],
   "source": [
    "hub.__version__"
   ]
  },
  {
   "cell_type": "code",
   "execution_count": 31,
   "metadata": {},
   "outputs": [
    {
     "data": {
      "text/plain": [
       "['abstract_reasoning',\n",
       " 'aflw2k3d',\n",
       " 'amazon_us_reviews',\n",
       " 'bair_robot_pushing_small',\n",
       " 'bigearthnet',\n",
       " 'binarized_mnist',\n",
       " 'binary_alpha_digits',\n",
       " 'caltech101',\n",
       " 'caltech_birds2010',\n",
       " 'caltech_birds2011',\n",
       " 'cats_vs_dogs',\n",
       " 'celeb_a',\n",
       " 'celeb_a_hq',\n",
       " 'chexpert',\n",
       " 'cifar10',\n",
       " 'cifar100',\n",
       " 'cifar10_corrupted',\n",
       " 'clevr',\n",
       " 'cnn_dailymail',\n",
       " 'coco',\n",
       " 'coco2014',\n",
       " 'coil100',\n",
       " 'colorectal_histology',\n",
       " 'colorectal_histology_large',\n",
       " 'curated_breast_imaging_ddsm',\n",
       " 'cycle_gan',\n",
       " 'deep_weeds',\n",
       " 'definite_pronoun_resolution',\n",
       " 'diabetic_retinopathy_detection',\n",
       " 'downsampled_imagenet',\n",
       " 'dsprites',\n",
       " 'dtd',\n",
       " 'dummy_dataset_shared_generator',\n",
       " 'dummy_mnist',\n",
       " 'emnist',\n",
       " 'eurosat',\n",
       " 'fashion_mnist',\n",
       " 'flores',\n",
       " 'food101',\n",
       " 'gap',\n",
       " 'glue',\n",
       " 'groove',\n",
       " 'higgs',\n",
       " 'horses_or_humans',\n",
       " 'image_label_folder',\n",
       " 'imagenet2012',\n",
       " 'imagenet2012_corrupted',\n",
       " 'imdb_reviews',\n",
       " 'iris',\n",
       " 'kitti',\n",
       " 'kmnist',\n",
       " 'lfw',\n",
       " 'lm1b',\n",
       " 'lsun',\n",
       " 'mnist',\n",
       " 'mnist_corrupted',\n",
       " 'moving_mnist',\n",
       " 'multi_nli',\n",
       " 'nsynth',\n",
       " 'omniglot',\n",
       " 'open_images_v4',\n",
       " 'oxford_flowers102',\n",
       " 'oxford_iiit_pet',\n",
       " 'para_crawl',\n",
       " 'patch_camelyon',\n",
       " 'pet_finder',\n",
       " 'quickdraw_bitmap',\n",
       " 'resisc45',\n",
       " 'rock_paper_scissors',\n",
       " 'rock_you',\n",
       " 'scene_parse150',\n",
       " 'shapes3d',\n",
       " 'smallnorb',\n",
       " 'snli',\n",
       " 'so2sat',\n",
       " 'squad',\n",
       " 'stanford_dogs',\n",
       " 'stanford_online_products',\n",
       " 'starcraft_video',\n",
       " 'sun397',\n",
       " 'super_glue',\n",
       " 'svhn_cropped',\n",
       " 'ted_hrlr_translate',\n",
       " 'ted_multi_translate',\n",
       " 'tf_flowers',\n",
       " 'titanic',\n",
       " 'trivia_qa',\n",
       " 'uc_merced',\n",
       " 'ucf101',\n",
       " 'visual_domain_decathlon',\n",
       " 'voc2007',\n",
       " 'wikipedia',\n",
       " 'wmt14_translate',\n",
       " 'wmt15_translate',\n",
       " 'wmt16_translate',\n",
       " 'wmt17_translate',\n",
       " 'wmt18_translate',\n",
       " 'wmt19_translate',\n",
       " 'wmt_t2t_translate',\n",
       " 'wmt_translate',\n",
       " 'xnli']"
      ]
     },
     "execution_count": 31,
     "metadata": {},
     "output_type": "execute_result"
    }
   ],
   "source": [
    "tfds.list_builders()"
   ]
  },
  {
   "cell_type": "code",
   "execution_count": 46,
   "metadata": {},
   "outputs": [],
   "source": [
    "(train_data, validation_data), test_data = tfds.load(\n",
    "    name=\"imdb_reviews\", \n",
    "    split=(tfds.Split.TRAIN.subsplit([6, 4]), tfds.Split.TEST), \n",
    "    as_supervised=True)"
   ]
  },
  {
   "cell_type": "code",
   "execution_count": 49,
   "metadata": {},
   "outputs": [
    {
     "data": {
      "text/plain": [
       "tensorflow.python.data.ops.dataset_ops._OptionsDataset"
      ]
     },
     "execution_count": 49,
     "metadata": {},
     "output_type": "execute_result"
    }
   ],
   "source": [
    "type(train_data)"
   ]
  },
  {
   "cell_type": "code",
   "execution_count": 67,
   "metadata": {},
   "outputs": [
    {
     "data": {
      "text/plain": [
       "<tf.Tensor: shape=(10,), dtype=string, numpy=\n",
       "array([b\"As a lifelong fan of Dickens, I have invariably been disappointed by adaptations of his novels.<br /><br />Although his works presented an extremely accurate re-telling of human life at every level in Victorian Britain, throughout them all was a pervasive thread of humour that could be both playful or sarcastic as the narrative dictated. In a way, he was a literary caricaturist and cartoonist. He could be serious and hilarious in the same sentence. He pricked pride, lampooned arrogance, celebrated modesty, and empathised with loneliness and poverty. It may be a clich\\xc3\\xa9, but he was a people's writer.<br /><br />And it is the comedy that is so often missing from his interpretations. At the time of writing, Oliver Twist is being dramatised in serial form on BBC television. All of the misery and cruelty is their, but non of the humour, irony, and savage lampoonery. The result is just a dark, dismal experience: the story penned by a journalist rather than a novelist. It's not really Dickens at all.<br /><br />'Oliver!', on the other hand, is much closer to the mark. The mockery of officialdom is perfectly interpreted, from the blustering beadle to the drunken magistrate. The classic stand-off between the beadle and Mr Brownlow, in which the law is described as 'a ass, a idiot' couldn't have been better done. Harry Secombe is an ideal choice.<br /><br />But the blinding cruelty is also there, the callous indifference of the state, the cold, hunger, poverty and loneliness are all presented just as surely as The Master would have wished.<br /><br />And then there is crime. Ron Moody is a treasure as the sleazy Jewish fence, whilst Oliver Reid has Bill Sykes to perfection.<br /><br />Perhaps not surprisingly, Lionel Bart - himself a Jew from London's east-end - takes a liberty with Fagin by re-interpreting him as a much more benign fellow than was Dicken's original. In the novel, he was utterly ruthless, sending some of his own boys to the gallows in order to protect himself (though he was also caught and hanged). Whereas in the movie, he is presented as something of a wayward father-figure, a sort of charitable thief rather than a corrupter of children, the latter being a long-standing anti-semitic sentiment. Otherwise, very few liberties are taken with Dickens's original. All of the most memorable elements are included. Just enough menace and violence is retained to ensure narrative fidelity whilst at the same time allowing for children' sensibilities. Nancy is still beaten to death, Bullseye narrowly escapes drowning, and Bill Sykes gets a faithfully graphic come-uppance.<br /><br />Every song is excellent, though they do incline towards schmaltz. Mark Lester mimes his wonderfully. Both his and my favourite scene is the one in which the world comes alive to 'who will buy'. It's schmaltzy, but it's Dickens through and through.<br /><br />I could go on. I could commend the wonderful set-pieces, the contrast of the rich and poor. There is top-quality acting from more British regulars than you could shake a stick at.<br /><br />I ought to give it 10 points, but I'm feeling more like Scrooge today. Soak it up with your Christmas dinner. No original has been better realised.\",\n",
       "       b\"Oh yeah! Jenna Jameson did it again! Yeah Baby! This movie rocks. It was one of the 1st movies i saw of her. And i have to say i feel in love with her, she was great in this move.<br /><br />Her performance was outstanding and what i liked the most was the scenery and the wardrobe it was amazing you can tell that they put a lot into the movie the girls cloth were amazing.<br /><br />I hope this comment helps and u can buy the movie, the storyline is awesome is very unique and i'm sure u are going to like it. Jenna amazed us once more and no wonder the movie won so many awards. Her make-up and wardrobe is very very sexy and the girls on girls scene is amazing. specially the one where she looks like an angel. It's a must see and i hope u share my interests\",\n",
       "       b\"I saw this film on True Movies (which automatically made me sceptical) but actually - it was good. Why? Not because of the amazing plot twists or breathtaking dialogue (of which there is little) but because actually, despite what people say I thought the film was accurate in it's depiction of teenagers dealing with pregnancy.<br /><br />It's NOT Dawson's Creek, they're not graceful, cool witty characters who breeze through sexuality with effortless knowledge. They're kids and they act like kids would. <br /><br />They're blunt, awkward and annoyingly confused about everything. Yes, this could be by accident and they could just be bad actors but I don't think so. Dermot Mulroney gives (when not trying to be cool) a very believable performance and I loved him for it. Patricia Arquette IS whiny and annoying, but she was pregnant and a teenagers? The combination of the two isn't exactly lavender on your pillow. The plot was VERY predictable and but so what? I believed them, his stress and inability to cope - her brave, yet slightly misguided attempts to bring them closer together. I think the characters, acted by anyone else, WOULD indeed have been annoying and unbelievable but they weren't. It reflects the surreality of the situation they're in, that he's sitting in class and she walks on campus with the baby. I felt angry at her for that, I felt angry at him for being such a child and for blaming her. I felt it all.<br /><br />In the end, I loved it and would recommend it.<br /><br />Watch out for the scene where Dermot Mulroney runs from the disastrous counselling session - career performance.\",\n",
       "       b'This was a wonderfully clever and entertaining movie that I shall never tire of watching many, many times. The casting was magnificent in matching up the young with the older characters. There are those of us out here who really do appreciate good actors and an intelligent story format. As for Judi Dench, she is beautiful and a gift to any kind of production in which she stars. I always make a point to see Judi Dench in all her performances. She is a superb actress and a pleasure to watch as each transformation of her character comes to life. I can only be grateful when I see such an outstanding picture for most of the motion pictures made more recently lack good characters, good scripts and good acting. The movie public needs heroes, not deviant manikins, who lack ingenuity and talent. How wonderful to see old favorites like Leslie Caron, Olympia Dukakis and Cleo Laine. I would like to see this movie win the awards it deserves. Thank you again for a tremendous night of entertainment. I congratulate the writer, director, producer, and all those who did such a fine job.',\n",
       "       b'I have no idea what the other reviewer is talking about- this was a wonderful movie, and created a sense of the era that feels like time travel. The characters are truly young, Mary is a strong match for Byron, Claire is juvenile and a tad annoying, Polidori is a convincing beaten-down sycophant... all are beautiful, curious, and decadent... not the frightening wrecks they are in Gothic.<br /><br />Gothic works as an independent piece of shock film, and I loved it for different reasons, but this works like a Merchant and Ivory film, and was from my readings the best capture of what the summer must have felt like. Romantic, yes, but completely rekindles my interest in the lives of Shelley and Byron every time I think about the film. One of my all-time favorites.',\n",
       "       b\"This was soul-provoking! I am an Iranian, and living in th 21st century, I didn't know that such big tribes have been living in such conditions at the time of my grandfather!<br /><br />You see that today, or even in 1925, on one side of the world a lady or a baby could have everything served for him or her clean and on-demand, but here 80 years ago, people ventured their life to go to somewhere with more grass. It's really interesting that these Persians bear those difficulties to find pasture for their sheep, but they lose many the sheep on their way.<br /><br />I praise the Americans who accompanied this tribe, they were as tough as Bakhtiari people.\",\n",
       "       b'Just because someone is under the age of 10 does not mean they are stupid. If your child likes this film you\\'d better have him/her tested. I am continually amazed at how so many people can be involved in something that turns out so bad. This \"film\" is a showcase for digital wizardry AND NOTHING ELSE. The writing is horrid. I can\\'t remember when I\\'ve heard such bad dialogue. The songs are beyond wretched. The acting is sub-par but then the actors were not given much. Who decided to employ Joey Fatone? He cannot sing and he is ugly as sin.<br /><br />The worst thing is the obviousness of it all. It is as if the writers went out of their way to make it all as stupid as possible. Great children\\'s movies are wicked, smart and full of wit - films like Shrek and Toy Story in recent years, Willie Wonka and The Witches to mention two of the past. But in the continual dumbing-down of American more are flocking to dreck like Finding Nemo (yes, that\\'s right), the recent Charlie & The Chocolate Factory and eye-crossing trash like Red Riding Hood.',\n",
       "       b\"I absolutely LOVED this movie when I was a kid. I cried every time I watched it. It wasn't weird to me. I totally identified with the characters. I would love to see it again (and hope I wont be disappointed!). Pufnstuf rocks!!!! I was really drawn in to the fantasy world. And to me the movie was loooong. I wonder if I ever saw the series and have confused them? The acting I thought was strong. I loved Jack Wilde. He was so dreamy to an 10 year old (when I first saw the movie, not in 1970. I can still remember the characters vividly. The flute was totally believable and I can still 'feel' the evil woods. Witchy poo was scary - I wouldn't want to cross her path.\",\n",
       "       b'A very close and sharp discription of the bubbling and dynamic emotional world of specialy one 18year old guy, that makes his first experiences in his gay love to an other boy, during an vacation with a part of his family.<br /><br />I liked this film because of his extremly clear and surrogated storytelling , with all this \"Sound-close-ups\" and quiet moments wich had been full of intensive moods.<br /><br />',\n",
       "       b\"This is the most depressing film I have ever seen. I first saw it as a child and even thinking about it now really upsets me. I know it was set in a time when life was hard and I know these people were poor and the crops were vital. Yes, I get all that. What I find hard to take is I can't remember one single light moment in the entire film. Maybe it was true to life, I don't know. I'm quite sure the acting was top notch and the direction and quality of filming etc etc was wonderful and I know that every film can't have a happy ending but as a family film it is dire in my opinion.<br /><br />I wouldn't recommend it to anyone who wants to be entertained by a film. I can't stress enough how this film affected me as a child. I was talking about it recently and all the sad memories came flooding back. I think it would have all but the heartless reaching for the Prozac.\"],\n",
       "      dtype=object)>"
      ]
     },
     "execution_count": 67,
     "metadata": {},
     "output_type": "execute_result"
    }
   ],
   "source": [
    "train_examples_batch, train_labels_batch = next(iter(train_data.batch(10)))\n",
    "train_examples_batch"
   ]
  },
  {
   "cell_type": "code",
   "execution_count": 58,
   "metadata": {},
   "outputs": [
    {
     "data": {
      "text/plain": [
       "<tf.Tensor: shape=(10,), dtype=int64, numpy=array([1, 1, 1, 1, 1, 1, 0, 1, 1, 0], dtype=int64)>"
      ]
     },
     "execution_count": 58,
     "metadata": {},
     "output_type": "execute_result"
    }
   ],
   "source": [
    "train_labels_batch"
   ]
  },
  {
   "cell_type": "code",
   "execution_count": 63,
   "metadata": {},
   "outputs": [
    {
     "data": {
      "text/plain": [
       "<tf.Tensor: shape=(10, 20), dtype=float32, numpy=\n",
       "array([[ 3.9819887 , -4.4838037 ,  5.177359  , -2.3643482 , -3.2938678 ,\n",
       "        -3.5364532 , -2.4786978 ,  2.5525482 ,  6.688532  , -2.3076782 ,\n",
       "        -1.9807833 ,  1.1315885 , -3.0339816 , -0.7604128 , -5.743445  ,\n",
       "         3.4242578 ,  4.790099  , -4.03061   , -5.992149  , -1.7297493 ],\n",
       "       [ 3.4232912 , -4.230874  ,  4.1488533 , -0.29553518, -6.802391  ,\n",
       "        -2.5163853 , -4.4002395 ,  1.905792  ,  4.7512794 , -0.40538004,\n",
       "        -4.3401685 ,  1.0361497 ,  0.9744097 ,  0.71507156, -6.2657013 ,\n",
       "         0.16533905,  4.560262  , -1.3106939 , -3.1121316 , -2.1338716 ],\n",
       "       [ 3.8508697 , -5.003031  ,  4.8700504 , -0.04324996, -5.893603  ,\n",
       "        -5.2983093 , -4.004676  ,  4.1236343 ,  6.267754  ,  0.11632943,\n",
       "        -3.5934832 ,  0.8023905 ,  0.56146765,  0.9192484 , -7.3066816 ,\n",
       "         2.8202746 ,  6.2000837 , -3.5709393 , -4.564525  , -2.305622  ],\n",
       "       [ 3.9022908 , -5.336768  ,  4.6433706 , -2.322609  , -5.6409845 ,\n",
       "        -2.2914128 , -1.3552328 ,  1.1260422 ,  4.928207  , -1.4990277 ,\n",
       "        -3.5764084 ,  0.8652999 , -1.8267108 ,  0.7212572 , -6.1661105 ,\n",
       "        -0.67619115,  5.83987   , -2.078528  , -3.7790735 , -2.0113754 ],\n",
       "       [ 3.0298512 , -3.1155329 ,  3.231569  , -2.470162  , -3.6778672 ,\n",
       "        -2.7249148 , -1.5884265 ,  0.8121041 ,  4.3448696 , -1.4254425 ,\n",
       "        -1.9567002 ,  0.7446213 , -0.9539236 ,  0.4037092 , -4.982661  ,\n",
       "         0.9707939 ,  3.717819  , -1.3615017 , -2.881222  , -1.2961531 ],\n",
       "       [ 2.2488396 , -1.4537774 ,  1.97866   , -0.73290443, -2.2218246 ,\n",
       "        -4.054772  , -1.6585274 ,  1.8872426 ,  1.8315402 ,  0.45302168,\n",
       "        -0.50105846,  1.3690453 , -1.9862492 ,  0.4043505 , -5.337918  ,\n",
       "         1.5515825 ,  3.6844683 , -3.3751655 , -3.4578393 , -1.1764543 ],\n",
       "       [ 2.3922324 , -4.0016193 ,  3.7038894 , -1.1758604 , -5.8503404 ,\n",
       "        -3.9237614 , -2.4573333 ,  1.027955  ,  3.6597157 , -1.155459  ,\n",
       "        -2.176127  ,  0.22444512, -0.15442984,  0.5689679 , -4.8876157 ,\n",
       "         0.8483899 ,  3.5532432 , -1.2010117 , -2.6978934 , -2.2559552 ],\n",
       "       [ 2.0660517 , -4.491833  ,  3.6127415 , -0.6699504 , -7.310619  ,\n",
       "        -4.402696  , -4.3286967 ,  2.5536625 ,  5.506356  ,  1.5327201 ,\n",
       "        -4.539875  ,  0.2960692 ,  1.5209124 ,  1.1145658 , -6.6717415 ,\n",
       "         3.1345682 ,  5.0351944 , -2.2035742 , -3.4724264 , -0.7029331 ],\n",
       "       [ 2.2850306 , -1.3994653 ,  1.9646566 , -1.8079202 , -0.3574569 ,\n",
       "        -0.12123204, -0.82485604,  0.20197354,  2.4308808 , -1.8707466 ,\n",
       "        -1.8008713 ,  0.9650812 , -1.3530476 , -0.10591842, -2.7889197 ,\n",
       "         0.69957316,  2.0551753 , -1.6120912 , -2.8612442 , -0.7083347 ],\n",
       "       [ 3.041689  , -4.7446456 ,  4.733248  ,  0.30785134, -6.9846196 ,\n",
       "        -5.9006767 , -4.4500394 ,  2.3718796 ,  5.0403566 ,  0.4119934 ,\n",
       "        -2.8661985 ,  0.6986558 ,  0.5313177 ,  1.4525845 , -7.200312  ,\n",
       "         2.9011002 ,  6.392641  , -2.6039283 , -2.9440727 , -2.4246173 ]],\n",
       "      dtype=float32)>"
      ]
     },
     "execution_count": 63,
     "metadata": {},
     "output_type": "execute_result"
    }
   ],
   "source": [
    "embedding = \"https://tfhub.dev/google/tf2-preview/gnews-swivel-20dim/1\"\n",
    "hub_layer = hub.KerasLayer(embedding, input_shape=[], \n",
    "                           dtype=tf.string, trainable=True)\n",
    "hub_layer(train_examples_batch)"
   ]
  },
  {
   "cell_type": "code",
   "execution_count": 68,
   "metadata": {},
   "outputs": [
    {
     "name": "stdout",
     "output_type": "stream",
     "text": [
      "Model: \"sequential\"\n",
      "_________________________________________________________________\n",
      "Layer (type)                 Output Shape              Param #   \n",
      "=================================================================\n",
      "keras_layer_3 (KerasLayer)   (None, 20)                400020    \n",
      "_________________________________________________________________\n",
      "dense (Dense)                (None, 16)                336       \n",
      "_________________________________________________________________\n",
      "dense_1 (Dense)              (None, 1)                 17        \n",
      "=================================================================\n",
      "Total params: 400,373\n",
      "Trainable params: 400,373\n",
      "Non-trainable params: 0\n",
      "_________________________________________________________________\n"
     ]
    }
   ],
   "source": [
    "model = tf.keras.Sequential()\n",
    "model.add(hub_layer)\n",
    "model.add(tf.keras.layers.Dense(16, activation='relu'))\n",
    "model.add(tf.keras.layers.Dense(1, activation='sigmoid'))\n",
    "\n",
    "model.summary()"
   ]
  },
  {
   "cell_type": "code",
   "execution_count": 69,
   "metadata": {},
   "outputs": [],
   "source": [
    "model.compile(optimizer='adam',\n",
    "              loss=tf.keras.losses.BinaryCrossentropy(from_logits=True),\n",
    "              metrics=['accuracy'])"
   ]
  },
  {
   "cell_type": "code",
   "execution_count": 70,
   "metadata": {},
   "outputs": [
    {
     "name": "stdout",
     "output_type": "stream",
     "text": [
      "Epoch 1/20\n",
      "30/30 [==============================].7283 - accuracy: 0.50 - 3s 1s/step - loss: 0.7345 - accuracy: 0.50 - 3s 993ms/step - loss: 0.7359 - accuracy: 0.492 - 3s 772ms/step - loss: 0.7339 - accuracy: 0.481 - 3s 642ms/step - loss: 0.7335 - accuracy: 0.482 - 3s 551ms/step - loss: 0.7325 - accuracy: 0.490 - 3s 487ms/step - loss: 0.7289 - accuracy: 0.496 - 3s 435ms/step - loss: 0.7252 - accuracy: 0.496 - 4s 396ms/step - loss: 0.7239 - accuracy: 0.498 - 4s 367ms/step - loss: 0.7220 - accuracy: 0.499 - 4s 343ms/step - loss: 0.7199 - accuracy: 0.499 - 4s 321ms/step - loss: 0.7186 - accuracy: 0.502 - 4s 303ms/step - loss: 0.7168 - accuracy: 0.502 - 4s 288ms/step - loss: 0.7153 - accuracy: 0.502 - 4s 275ms/step - loss: 0.7134 - accuracy: 0.502 - 4s 263ms/step - loss: 0.7124 - accuracy: 0.502 - 4s 253ms/step - loss: 0.7110 - accuracy: 0.502 - 4s 243ms/step - loss: 0.7098 - accuracy: 0.503 - 4s 235ms/step - loss: 0.7089 - accuracy: 0.503 - 5s 227ms/step - loss: 0.7076 - accuracy: 0.502 - 5s 221ms/step - loss: 0.7065 - accuracy: 0.502 - 5s 215ms/step - loss: 0.7060 - accuracy: 0.504 - 5s 210ms/step - loss: 0.7049 - accuracy: 0.504 - 5s 205ms/step - loss: 0.7045 - accuracy: 0.505 - 5s 201ms/step - loss: 0.7038 - accuracy: 0.505 - 5s 197ms/step - loss: 0.7030 - accuracy: 0.505 - 5s 193ms/step - loss: 0.7023 - accuracy: 0.505 - 5s 189ms/step - loss: 0.7015 - accuracy: 0.504 - 5s 186ms/step - loss: 0.7010 - accuracy: 0.503 - 5s 182ms/step - loss: 0.7006 - accuracy: 0.503 - 8s 254ms/step - loss: 0.7006 - accuracy: 0.5039 - val_loss: 0.6825 - val_accuracy: 0.4981\n",
      "Epoch 2/20\n",
      "30/30 [==============================] - ETA: 22s - loss: 0.6823 - accuracy: 0.515 - ETA: 12s - loss: 0.6828 - accuracy: 0.520 - ETA: 8s - loss: 0.6813 - accuracy: 0.503 - ETA: 6s - loss: 0.6821 - accuracy: 0.50 - ETA: 5s - loss: 0.6820 - accuracy: 0.51 - ETA: 5s - loss: 0.6821 - accuracy: 0.50 - ETA: 4s - loss: 0.6826 - accuracy: 0.51 - ETA: 4s - loss: 0.6822 - accuracy: 0.50 - ETA: 3s - loss: 0.6816 - accuracy: 0.50 - ETA: 3s - loss: 0.6819 - accuracy: 0.50 - ETA: 3s - loss: 0.6814 - accuracy: 0.50 - ETA: 2s - loss: 0.6809 - accuracy: 0.50 - ETA: 2s - loss: 0.6810 - accuracy: 0.50 - ETA: 2s - loss: 0.6811 - accuracy: 0.50 - ETA: 2s - loss: 0.6813 - accuracy: 0.50 - ETA: 1s - loss: 0.6810 - accuracy: 0.50 - ETA: 1s - loss: 0.6810 - accuracy: 0.50 - ETA: 1s - loss: 0.6807 - accuracy: 0.50 - ETA: 1s - loss: 0.6808 - accuracy: 0.50 - ETA: 1s - loss: 0.6806 - accuracy: 0.50 - ETA: 1s - loss: 0.6806 - accuracy: 0.50 - ETA: 0s - loss: 0.6808 - accuracy: 0.50 - ETA: 0s - loss: 0.6808 - accuracy: 0.50 - ETA: 0s - loss: 0.6804 - accuracy: 0.50 - ETA: 0s - loss: 0.6802 - accuracy: 0.50 - ETA: 0s - loss: 0.6801 - accuracy: 0.50 - ETA: 0s - loss: 0.6800 - accuracy: 0.50 - ETA: 0s - loss: 0.6801 - accuracy: 0.50 - ETA: 0s - loss: 0.6800 - accuracy: 0.50 - 5s 182ms/step - loss: 0.6801 - accuracy: 0.5019 - val_loss: 0.6757 - val_accuracy: 0.5042\n",
      "Epoch 3/20\n",
      "30/30 [==============================] - ETA: 30s - loss: 0.6826 - accuracy: 0.533 - ETA: 16s - loss: 0.6841 - accuracy: 0.547 - ETA: 11s - loss: 0.6802 - accuracy: 0.528 - ETA: 9s - loss: 0.6793 - accuracy: 0.524 - ETA: 7s - loss: 0.6779 - accuracy: 0.52 - ETA: 6s - loss: 0.6759 - accuracy: 0.51 - ETA: 5s - loss: 0.6753 - accuracy: 0.51 - ETA: 5s - loss: 0.6746 - accuracy: 0.51 - ETA: 4s - loss: 0.6745 - accuracy: 0.51 - ETA: 4s - loss: 0.6740 - accuracy: 0.51 - ETA: 3s - loss: 0.6740 - accuracy: 0.51 - ETA: 3s - loss: 0.6733 - accuracy: 0.52 - ETA: 3s - loss: 0.6728 - accuracy: 0.52 - ETA: 2s - loss: 0.6730 - accuracy: 0.52 - ETA: 2s - loss: 0.6730 - accuracy: 0.53 - ETA: 2s - loss: 0.6728 - accuracy: 0.53 - ETA: 2s - loss: 0.6727 - accuracy: 0.53 - ETA: 1s - loss: 0.6719 - accuracy: 0.53 - ETA: 1s - loss: 0.6714 - accuracy: 0.53 - ETA: 1s - loss: 0.6715 - accuracy: 0.54 - ETA: 1s - loss: 0.6711 - accuracy: 0.54 - ETA: 1s - loss: 0.6709 - accuracy: 0.54 - ETA: 0s - loss: 0.6711 - accuracy: 0.55 - ETA: 0s - loss: 0.6710 - accuracy: 0.55 - ETA: 0s - loss: 0.6705 - accuracy: 0.55 - ETA: 0s - loss: 0.6703 - accuracy: 0.56 - ETA: 0s - loss: 0.6701 - accuracy: 0.56 - ETA: 0s - loss: 0.6699 - accuracy: 0.56 - ETA: 0s - loss: 0.6696 - accuracy: 0.56 - 6s 187ms/step - loss: 0.6689 - accuracy: 0.5679 - val_loss: 0.6621 - val_accuracy: 0.6169\n",
      "Epoch 4/20\n",
      "30/30 [==============================] - ETA: 34s - loss: 0.6591 - accuracy: 0.605 - ETA: 19s - loss: 0.6596 - accuracy: 0.622 - ETA: 13s - loss: 0.6607 - accuracy: 0.634 - ETA: 10s - loss: 0.6613 - accuracy: 0.639 - ETA: 8s - loss: 0.6607 - accuracy: 0.643 - ETA: 7s - loss: 0.6615 - accuracy: 0.64 - ETA: 6s - loss: 0.6613 - accuracy: 0.64 - ETA: 6s - loss: 0.6615 - accuracy: 0.63 - ETA: 5s - loss: 0.6607 - accuracy: 0.64 - ETA: 5s - loss: 0.6608 - accuracy: 0.64 - ETA: 4s - loss: 0.6610 - accuracy: 0.64 - ETA: 4s - loss: 0.6593 - accuracy: 0.64 - ETA: 3s - loss: 0.6593 - accuracy: 0.64 - ETA: 3s - loss: 0.6586 - accuracy: 0.64 - ETA: 3s - loss: 0.6575 - accuracy: 0.64 - ETA: 2s - loss: 0.6573 - accuracy: 0.64 - ETA: 2s - loss: 0.6574 - accuracy: 0.64 - ETA: 2s - loss: 0.6573 - accuracy: 0.64 - ETA: 2s - loss: 0.6578 - accuracy: 0.64 - ETA: 1s - loss: 0.6583 - accuracy: 0.65 - ETA: 1s - loss: 0.6581 - accuracy: 0.65 - ETA: 1s - loss: 0.6574 - accuracy: 0.65 - ETA: 1s - loss: 0.6571 - accuracy: 0.65 - ETA: 1s - loss: 0.6572 - accuracy: 0.65 - ETA: 0s - loss: 0.6565 - accuracy: 0.65 - ETA: 0s - loss: 0.6567 - accuracy: 0.65 - ETA: 0s - loss: 0.6571 - accuracy: 0.65 - ETA: 0s - loss: 0.6561 - accuracy: 0.65 - ETA: 0s - loss: 0.6558 - accuracy: 0.65 - 9s 287ms/step - loss: 0.6553 - accuracy: 0.6523 - val_loss: 0.6498 - val_accuracy: 0.6701\n",
      "Epoch 5/20\n",
      "30/30 [==============================] - ETA: 53s - loss: 0.6602 - accuracy: 0.646 - ETA: 28s - loss: 0.6537 - accuracy: 0.667 - ETA: 19s - loss: 0.6562 - accuracy: 0.662 - ETA: 15s - loss: 0.6476 - accuracy: 0.665 - ETA: 12s - loss: 0.6464 - accuracy: 0.666 - ETA: 11s - loss: 0.6471 - accuracy: 0.675 - ETA: 9s - loss: 0.6471 - accuracy: 0.677 - ETA: 8s - loss: 0.6461 - accuracy: 0.67 - ETA: 7s - loss: 0.6457 - accuracy: 0.68 - ETA: 6s - loss: 0.6441 - accuracy: 0.68 - ETA: 6s - loss: 0.6434 - accuracy: 0.68 - ETA: 5s - loss: 0.6422 - accuracy: 0.68 - ETA: 5s - loss: 0.6418 - accuracy: 0.68 - ETA: 4s - loss: 0.6425 - accuracy: 0.69 - ETA: 4s - loss: 0.6432 - accuracy: 0.69 - ETA: 3s - loss: 0.6431 - accuracy: 0.69 - ETA: 3s - loss: 0.6429 - accuracy: 0.69 - ETA: 3s - loss: 0.6431 - accuracy: 0.69 - ETA: 2s - loss: 0.6431 - accuracy: 0.69 - ETA: 2s - loss: 0.6437 - accuracy: 0.69 - ETA: 2s - loss: 0.6436 - accuracy: 0.69 - ETA: 1s - loss: 0.6438 - accuracy: 0.69 - ETA: 1s - loss: 0.6441 - accuracy: 0.69 - ETA: 1s - loss: 0.6439 - accuracy: 0.69 - ETA: 1s - loss: 0.6439 - accuracy: 0.69 - ETA: 0s - loss: 0.6437 - accuracy: 0.69 - ETA: 0s - loss: 0.6438 - accuracy: 0.69 - ETA: 0s - loss: 0.6439 - accuracy: 0.69 - ETA: 0s - loss: 0.6437 - accuracy: 0.69 - 9s 283ms/step - loss: 0.6435 - accuracy: 0.6915 - val_loss: 0.6395 - val_accuracy: 0.6959\n",
      "Epoch 6/20\n"
     ]
    },
    {
     "name": "stdout",
     "output_type": "stream",
     "text": [
      "30/30 [==============================] - ETA: 38s - loss: 0.6410 - accuracy: 0.712 - ETA: 21s - loss: 0.6427 - accuracy: 0.719 - ETA: 14s - loss: 0.6392 - accuracy: 0.716 - ETA: 11s - loss: 0.6405 - accuracy: 0.721 - ETA: 9s - loss: 0.6362 - accuracy: 0.721 - ETA: 8s - loss: 0.6357 - accuracy: 0.72 - ETA: 7s - loss: 0.6377 - accuracy: 0.72 - ETA: 6s - loss: 0.6357 - accuracy: 0.72 - ETA: 5s - loss: 0.6343 - accuracy: 0.71 - ETA: 5s - loss: 0.6345 - accuracy: 0.71 - ETA: 4s - loss: 0.6343 - accuracy: 0.72 - ETA: 4s - loss: 0.6347 - accuracy: 0.72 - ETA: 4s - loss: 0.6352 - accuracy: 0.72 - ETA: 3s - loss: 0.6346 - accuracy: 0.72 - ETA: 3s - loss: 0.6356 - accuracy: 0.72 - ETA: 3s - loss: 0.6344 - accuracy: 0.72 - ETA: 2s - loss: 0.6343 - accuracy: 0.72 - ETA: 2s - loss: 0.6346 - accuracy: 0.72 - ETA: 2s - loss: 0.6342 - accuracy: 0.72 - ETA: 1s - loss: 0.6336 - accuracy: 0.72 - ETA: 1s - loss: 0.6333 - accuracy: 0.72 - ETA: 1s - loss: 0.6335 - accuracy: 0.72 - ETA: 1s - loss: 0.6331 - accuracy: 0.72 - ETA: 1s - loss: 0.6331 - accuracy: 0.72 - ETA: 0s - loss: 0.6326 - accuracy: 0.72 - ETA: 0s - loss: 0.6323 - accuracy: 0.72 - ETA: 0s - loss: 0.6319 - accuracy: 0.72 - ETA: 0s - loss: 0.6318 - accuracy: 0.72 - ETA: 0s - loss: 0.6319 - accuracy: 0.72 - 8s 251ms/step - loss: 0.6324 - accuracy: 0.7245 - val_loss: 0.6291 - val_accuracy: 0.7340\n",
      "Epoch 7/20\n",
      "30/30 [==============================] - ETA: 25s - loss: 0.6224 - accuracy: 0.763 - ETA: 14s - loss: 0.6241 - accuracy: 0.745 - ETA: 10s - loss: 0.6273 - accuracy: 0.736 - ETA: 8s - loss: 0.6268 - accuracy: 0.738 - ETA: 6s - loss: 0.6274 - accuracy: 0.73 - ETA: 6s - loss: 0.6249 - accuracy: 0.74 - ETA: 5s - loss: 0.6279 - accuracy: 0.73 - ETA: 4s - loss: 0.6277 - accuracy: 0.73 - ETA: 4s - loss: 0.6266 - accuracy: 0.73 - ETA: 3s - loss: 0.6251 - accuracy: 0.73 - ETA: 3s - loss: 0.6243 - accuracy: 0.73 - ETA: 3s - loss: 0.6234 - accuracy: 0.73 - ETA: 3s - loss: 0.6218 - accuracy: 0.74 - ETA: 2s - loss: 0.6228 - accuracy: 0.74 - ETA: 2s - loss: 0.6230 - accuracy: 0.74 - ETA: 2s - loss: 0.6226 - accuracy: 0.74 - ETA: 2s - loss: 0.6227 - accuracy: 0.74 - ETA: 1s - loss: 0.6229 - accuracy: 0.75 - ETA: 1s - loss: 0.6215 - accuracy: 0.75 - ETA: 1s - loss: 0.6221 - accuracy: 0.75 - ETA: 1s - loss: 0.6218 - accuracy: 0.75 - ETA: 1s - loss: 0.6217 - accuracy: 0.75 - ETA: 1s - loss: 0.6214 - accuracy: 0.75 - ETA: 0s - loss: 0.6208 - accuracy: 0.75 - ETA: 0s - loss: 0.6208 - accuracy: 0.75 - ETA: 0s - loss: 0.6209 - accuracy: 0.75 - ETA: 0s - loss: 0.6212 - accuracy: 0.75 - ETA: 0s - loss: 0.6209 - accuracy: 0.75 - ETA: 0s - loss: 0.6203 - accuracy: 0.75 - 6s 215ms/step - loss: 0.6199 - accuracy: 0.7567 - val_loss: 0.6188 - val_accuracy: 0.7562\n",
      "Epoch 8/20\n",
      "30/30 [==============================] - ETA: 34s - loss: 0.6123 - accuracy: 0.767 - ETA: 19s - loss: 0.6209 - accuracy: 0.764 - ETA: 13s - loss: 0.6185 - accuracy: 0.758 - ETA: 10s - loss: 0.6173 - accuracy: 0.765 - ETA: 8s - loss: 0.6178 - accuracy: 0.773 - ETA: 7s - loss: 0.6176 - accuracy: 0.77 - ETA: 6s - loss: 0.6183 - accuracy: 0.77 - ETA: 6s - loss: 0.6164 - accuracy: 0.77 - ETA: 5s - loss: 0.6138 - accuracy: 0.77 - ETA: 5s - loss: 0.6132 - accuracy: 0.78 - ETA: 4s - loss: 0.6122 - accuracy: 0.77 - ETA: 4s - loss: 0.6131 - accuracy: 0.77 - ETA: 3s - loss: 0.6118 - accuracy: 0.77 - ETA: 3s - loss: 0.6108 - accuracy: 0.78 - ETA: 3s - loss: 0.6117 - accuracy: 0.77 - ETA: 2s - loss: 0.6109 - accuracy: 0.78 - ETA: 2s - loss: 0.6110 - accuracy: 0.78 - ETA: 2s - loss: 0.6108 - accuracy: 0.78 - ETA: 2s - loss: 0.6110 - accuracy: 0.78 - ETA: 1s - loss: 0.6102 - accuracy: 0.78 - ETA: 1s - loss: 0.6099 - accuracy: 0.78 - ETA: 1s - loss: 0.6103 - accuracy: 0.78 - ETA: 1s - loss: 0.6105 - accuracy: 0.78 - ETA: 1s - loss: 0.6106 - accuracy: 0.78 - ETA: 0s - loss: 0.6102 - accuracy: 0.78 - ETA: 0s - loss: 0.6096 - accuracy: 0.78 - ETA: 0s - loss: 0.6094 - accuracy: 0.78 - ETA: 0s - loss: 0.6088 - accuracy: 0.78 - ETA: 0s - loss: 0.6084 - accuracy: 0.78 - 7s 234ms/step - loss: 0.6090 - accuracy: 0.7863 - val_loss: 0.6095 - val_accuracy: 0.7827\n",
      "Epoch 9/20\n",
      "30/30 [==============================] - ETA: 29s - loss: 0.6066 - accuracy: 0.759 - ETA: 16s - loss: 0.6000 - accuracy: 0.786 - ETA: 11s - loss: 0.5993 - accuracy: 0.802 - ETA: 9s - loss: 0.5983 - accuracy: 0.800 - ETA: 8s - loss: 0.5966 - accuracy: 0.79 - ETA: 7s - loss: 0.5945 - accuracy: 0.80 - ETA: 6s - loss: 0.5961 - accuracy: 0.80 - ETA: 6s - loss: 0.5976 - accuracy: 0.80 - ETA: 5s - loss: 0.5983 - accuracy: 0.80 - ETA: 5s - loss: 0.5977 - accuracy: 0.80 - ETA: 4s - loss: 0.5969 - accuracy: 0.80 - ETA: 4s - loss: 0.5961 - accuracy: 0.81 - ETA: 3s - loss: 0.5956 - accuracy: 0.81 - ETA: 3s - loss: 0.5953 - accuracy: 0.80 - ETA: 3s - loss: 0.5946 - accuracy: 0.81 - ETA: 2s - loss: 0.5946 - accuracy: 0.81 - ETA: 2s - loss: 0.5950 - accuracy: 0.81 - ETA: 2s - loss: 0.5965 - accuracy: 0.81 - ETA: 2s - loss: 0.5966 - accuracy: 0.81 - ETA: 1s - loss: 0.5975 - accuracy: 0.81 - ETA: 1s - loss: 0.5984 - accuracy: 0.81 - ETA: 1s - loss: 0.5983 - accuracy: 0.81 - ETA: 1s - loss: 0.5984 - accuracy: 0.81 - ETA: 1s - loss: 0.5987 - accuracy: 0.81 - ETA: 0s - loss: 0.5987 - accuracy: 0.81 - ETA: 0s - loss: 0.5982 - accuracy: 0.81 - ETA: 0s - loss: 0.5980 - accuracy: 0.81 - ETA: 0s - loss: 0.5983 - accuracy: 0.81 - ETA: 0s - loss: 0.5981 - accuracy: 0.81 - 7s 231ms/step - loss: 0.5984 - accuracy: 0.8131 - val_loss: 0.6018 - val_accuracy: 0.7990\n",
      "Epoch 10/20\n",
      "30/30 [==============================] - ETA: 33s - loss: 0.5992 - accuracy: 0.812 - ETA: 18s - loss: 0.5957 - accuracy: 0.832 - ETA: 12s - loss: 0.5954 - accuracy: 0.839 - ETA: 9s - loss: 0.5980 - accuracy: 0.837 - ETA: 8s - loss: 0.5949 - accuracy: 0.83 - ETA: 7s - loss: 0.5937 - accuracy: 0.83 - ETA: 6s - loss: 0.5928 - accuracy: 0.83 - ETA: 5s - loss: 0.5935 - accuracy: 0.83 - ETA: 4s - loss: 0.5925 - accuracy: 0.83 - ETA: 4s - loss: 0.5922 - accuracy: 0.83 - ETA: 4s - loss: 0.5926 - accuracy: 0.83 - ETA: 3s - loss: 0.5926 - accuracy: 0.83 - ETA: 3s - loss: 0.5929 - accuracy: 0.83 - ETA: 3s - loss: 0.5931 - accuracy: 0.83 - ETA: 2s - loss: 0.5924 - accuracy: 0.83 - ETA: 2s - loss: 0.5920 - accuracy: 0.83 - ETA: 2s - loss: 0.5921 - accuracy: 0.83 - ETA: 2s - loss: 0.5913 - accuracy: 0.83 - ETA: 1s - loss: 0.5920 - accuracy: 0.83 - ETA: 1s - loss: 0.5919 - accuracy: 0.82 - ETA: 1s - loss: 0.5916 - accuracy: 0.83 - ETA: 1s - loss: 0.5918 - accuracy: 0.83 - ETA: 1s - loss: 0.5915 - accuracy: 0.83 - ETA: 0s - loss: 0.5913 - accuracy: 0.83 - ETA: 0s - loss: 0.5908 - accuracy: 0.83 - ETA: 0s - loss: 0.5905 - accuracy: 0.83 - ETA: 0s - loss: 0.5896 - accuracy: 0.83 - ETA: 0s - loss: 0.5895 - accuracy: 0.83 - ETA: 0s - loss: 0.5897 - accuracy: 0.83 - 7s 236ms/step - loss: 0.5892 - accuracy: 0.8353 - val_loss: 0.5957 - val_accuracy: 0.8150\n",
      "Epoch 11/20\n",
      "30/30 [==============================] - ETA: 41s - loss: 0.5900 - accuracy: 0.834 - ETA: 22s - loss: 0.5847 - accuracy: 0.835 - ETA: 15s - loss: 0.5864 - accuracy: 0.837 - ETA: 11s - loss: 0.5881 - accuracy: 0.839 - ETA: 9s - loss: 0.5865 - accuracy: 0.843 - ETA: 8s - loss: 0.5835 - accuracy: 0.84 - ETA: 7s - loss: 0.5848 - accuracy: 0.84 - ETA: 6s - loss: 0.5865 - accuracy: 0.84 - ETA: 6s - loss: 0.5858 - accuracy: 0.84 - ETA: 5s - loss: 0.5862 - accuracy: 0.84 - ETA: 4s - loss: 0.5853 - accuracy: 0.84 - ETA: 4s - loss: 0.5844 - accuracy: 0.84 - ETA: 3s - loss: 0.5844 - accuracy: 0.84 - ETA: 3s - loss: 0.5842 - accuracy: 0.84 - ETA: 3s - loss: 0.5839 - accuracy: 0.84 - ETA: 2s - loss: 0.5843 - accuracy: 0.84 - ETA: 2s - loss: 0.5836 - accuracy: 0.84 - ETA: 2s - loss: 0.5842 - accuracy: 0.84 - ETA: 2s - loss: 0.5847 - accuracy: 0.84 - ETA: 1s - loss: 0.5848 - accuracy: 0.84 - ETA: 1s - loss: 0.5848 - accuracy: 0.84 - ETA: 1s - loss: 0.5844 - accuracy: 0.84 - ETA: 1s - loss: 0.5840 - accuracy: 0.84 - ETA: 1s - loss: 0.5833 - accuracy: 0.84 - ETA: 0s - loss: 0.5830 - accuracy: 0.84 - ETA: 0s - loss: 0.5829 - accuracy: 0.84 - ETA: 0s - loss: 0.5827 - accuracy: 0.85 - ETA: 0s - loss: 0.5829 - accuracy: 0.85 - ETA: 0s - loss: 0.5825 - accuracy: 0.84 - 7s 246ms/step - loss: 0.5824 - accuracy: 0.8495 - val_loss: 0.5906 - val_accuracy: 0.8243\n"
     ]
    },
    {
     "name": "stdout",
     "output_type": "stream",
     "text": [
      "Epoch 12/20\n",
      "30/30 [==============================] - ETA: 34s - loss: 0.5847 - accuracy: 0.861 - ETA: 18s - loss: 0.5838 - accuracy: 0.865 - ETA: 13s - loss: 0.5829 - accuracy: 0.863 - ETA: 10s - loss: 0.5793 - accuracy: 0.863 - ETA: 8s - loss: 0.5800 - accuracy: 0.860 - ETA: 7s - loss: 0.5823 - accuracy: 0.86 - ETA: 6s - loss: 0.5807 - accuracy: 0.85 - ETA: 6s - loss: 0.5788 - accuracy: 0.86 - ETA: 5s - loss: 0.5794 - accuracy: 0.85 - ETA: 5s - loss: 0.5790 - accuracy: 0.85 - ETA: 4s - loss: 0.5783 - accuracy: 0.85 - ETA: 4s - loss: 0.5777 - accuracy: 0.85 - ETA: 3s - loss: 0.5786 - accuracy: 0.85 - ETA: 3s - loss: 0.5780 - accuracy: 0.85 - ETA: 3s - loss: 0.5773 - accuracy: 0.85 - ETA: 2s - loss: 0.5773 - accuracy: 0.85 - ETA: 2s - loss: 0.5767 - accuracy: 0.85 - ETA: 2s - loss: 0.5773 - accuracy: 0.85 - ETA: 2s - loss: 0.5774 - accuracy: 0.85 - ETA: 1s - loss: 0.5771 - accuracy: 0.85 - ETA: 1s - loss: 0.5771 - accuracy: 0.85 - ETA: 1s - loss: 0.5771 - accuracy: 0.86 - ETA: 1s - loss: 0.5768 - accuracy: 0.86 - ETA: 1s - loss: 0.5769 - accuracy: 0.86 - ETA: 0s - loss: 0.5769 - accuracy: 0.86 - ETA: 0s - loss: 0.5772 - accuracy: 0.86 - ETA: 0s - loss: 0.5770 - accuracy: 0.86 - ETA: 0s - loss: 0.5767 - accuracy: 0.86 - ETA: 0s - loss: 0.5764 - accuracy: 0.86 - 7s 241ms/step - loss: 0.5756 - accuracy: 0.8611 - val_loss: 0.5867 - val_accuracy: 0.8351\n",
      "Epoch 13/20\n",
      "30/30 [==============================] - ETA: 30s - loss: 0.5817 - accuracy: 0.855 - ETA: 16s - loss: 0.5832 - accuracy: 0.862 - ETA: 11s - loss: 0.5774 - accuracy: 0.872 - ETA: 9s - loss: 0.5757 - accuracy: 0.867 - ETA: 7s - loss: 0.5750 - accuracy: 0.86 - ETA: 6s - loss: 0.5747 - accuracy: 0.86 - ETA: 6s - loss: 0.5733 - accuracy: 0.86 - ETA: 5s - loss: 0.5722 - accuracy: 0.87 - ETA: 5s - loss: 0.5701 - accuracy: 0.87 - ETA: 4s - loss: 0.5703 - accuracy: 0.87 - ETA: 4s - loss: 0.5703 - accuracy: 0.87 - ETA: 4s - loss: 0.5696 - accuracy: 0.87 - ETA: 3s - loss: 0.5701 - accuracy: 0.87 - ETA: 3s - loss: 0.5700 - accuracy: 0.87 - ETA: 3s - loss: 0.5709 - accuracy: 0.87 - ETA: 2s - loss: 0.5711 - accuracy: 0.87 - ETA: 2s - loss: 0.5714 - accuracy: 0.87 - ETA: 2s - loss: 0.5710 - accuracy: 0.86 - ETA: 2s - loss: 0.5707 - accuracy: 0.86 - ETA: 1s - loss: 0.5717 - accuracy: 0.86 - ETA: 1s - loss: 0.5712 - accuracy: 0.86 - ETA: 1s - loss: 0.5712 - accuracy: 0.86 - ETA: 1s - loss: 0.5714 - accuracy: 0.86 - ETA: 1s - loss: 0.5718 - accuracy: 0.86 - ETA: 0s - loss: 0.5714 - accuracy: 0.86 - ETA: 0s - loss: 0.5710 - accuracy: 0.86 - ETA: 0s - loss: 0.5709 - accuracy: 0.86 - ETA: 0s - loss: 0.5706 - accuracy: 0.87 - ETA: 0s - loss: 0.5709 - accuracy: 0.87 - 8s 255ms/step - loss: 0.5709 - accuracy: 0.8711 - val_loss: 0.5830 - val_accuracy: 0.8335\n",
      "Epoch 14/20\n",
      "30/30 [==============================] - ETA: 30s - loss: 0.5793 - accuracy: 0.855 - ETA: 16s - loss: 0.5822 - accuracy: 0.864 - ETA: 11s - loss: 0.5756 - accuracy: 0.867 - ETA: 9s - loss: 0.5725 - accuracy: 0.868 - ETA: 7s - loss: 0.5715 - accuracy: 0.87 - ETA: 6s - loss: 0.5680 - accuracy: 0.87 - ETA: 6s - loss: 0.5679 - accuracy: 0.87 - ETA: 5s - loss: 0.5671 - accuracy: 0.87 - ETA: 4s - loss: 0.5671 - accuracy: 0.87 - ETA: 4s - loss: 0.5676 - accuracy: 0.87 - ETA: 4s - loss: 0.5682 - accuracy: 0.87 - ETA: 3s - loss: 0.5693 - accuracy: 0.87 - ETA: 3s - loss: 0.5697 - accuracy: 0.87 - ETA: 3s - loss: 0.5695 - accuracy: 0.88 - ETA: 2s - loss: 0.5699 - accuracy: 0.88 - ETA: 2s - loss: 0.5710 - accuracy: 0.87 - ETA: 2s - loss: 0.5703 - accuracy: 0.87 - ETA: 2s - loss: 0.5688 - accuracy: 0.87 - ETA: 1s - loss: 0.5682 - accuracy: 0.87 - ETA: 1s - loss: 0.5681 - accuracy: 0.87 - ETA: 1s - loss: 0.5684 - accuracy: 0.87 - ETA: 1s - loss: 0.5679 - accuracy: 0.87 - ETA: 1s - loss: 0.5679 - accuracy: 0.87 - ETA: 0s - loss: 0.5678 - accuracy: 0.87 - ETA: 0s - loss: 0.5671 - accuracy: 0.87 - ETA: 0s - loss: 0.5668 - accuracy: 0.87 - ETA: 0s - loss: 0.5671 - accuracy: 0.87 - ETA: 0s - loss: 0.5664 - accuracy: 0.87 - ETA: 0s - loss: 0.5662 - accuracy: 0.88 - 7s 223ms/step - loss: 0.5669 - accuracy: 0.8802 - val_loss: 0.5802 - val_accuracy: 0.8422\n",
      "Epoch 15/20\n",
      "30/30 [==============================] - ETA: 28s - loss: 0.5714 - accuracy: 0.886 - ETA: 15s - loss: 0.5622 - accuracy: 0.885 - ETA: 11s - loss: 0.5582 - accuracy: 0.881 - ETA: 8s - loss: 0.5595 - accuracy: 0.885 - ETA: 7s - loss: 0.5598 - accuracy: 0.88 - ETA: 6s - loss: 0.5604 - accuracy: 0.88 - ETA: 5s - loss: 0.5594 - accuracy: 0.88 - ETA: 5s - loss: 0.5613 - accuracy: 0.88 - ETA: 4s - loss: 0.5610 - accuracy: 0.88 - ETA: 4s - loss: 0.5617 - accuracy: 0.88 - ETA: 3s - loss: 0.5610 - accuracy: 0.88 - ETA: 3s - loss: 0.5602 - accuracy: 0.88 - ETA: 3s - loss: 0.5606 - accuracy: 0.88 - ETA: 3s - loss: 0.5597 - accuracy: 0.89 - ETA: 2s - loss: 0.5600 - accuracy: 0.89 - ETA: 2s - loss: 0.5599 - accuracy: 0.89 - ETA: 2s - loss: 0.5598 - accuracy: 0.89 - ETA: 2s - loss: 0.5598 - accuracy: 0.89 - ETA: 1s - loss: 0.5602 - accuracy: 0.89 - ETA: 1s - loss: 0.5605 - accuracy: 0.89 - ETA: 1s - loss: 0.5602 - accuracy: 0.89 - ETA: 1s - loss: 0.5608 - accuracy: 0.89 - ETA: 1s - loss: 0.5613 - accuracy: 0.88 - ETA: 1s - loss: 0.5612 - accuracy: 0.88 - ETA: 0s - loss: 0.5617 - accuracy: 0.88 - ETA: 0s - loss: 0.5619 - accuracy: 0.88 - ETA: 0s - loss: 0.5617 - accuracy: 0.88 - ETA: 0s - loss: 0.5616 - accuracy: 0.88 - ETA: 0s - loss: 0.5619 - accuracy: 0.88 - 8s 255ms/step - loss: 0.5628 - accuracy: 0.8887 - val_loss: 0.5780 - val_accuracy: 0.8494\n",
      "Epoch 16/20\n",
      "30/30 [==============================] - ETA: 38s - loss: 0.5569 - accuracy: 0.882 - ETA: 20s - loss: 0.5545 - accuracy: 0.885 - ETA: 14s - loss: 0.5596 - accuracy: 0.888 - ETA: 11s - loss: 0.5560 - accuracy: 0.892 - ETA: 10s - loss: 0.5609 - accuracy: 0.889 - ETA: 8s - loss: 0.5627 - accuracy: 0.890 - ETA: 7s - loss: 0.5644 - accuracy: 0.89 - ETA: 6s - loss: 0.5642 - accuracy: 0.89 - ETA: 6s - loss: 0.5642 - accuracy: 0.89 - ETA: 5s - loss: 0.5650 - accuracy: 0.89 - ETA: 4s - loss: 0.5630 - accuracy: 0.89 - ETA: 4s - loss: 0.5635 - accuracy: 0.89 - ETA: 3s - loss: 0.5624 - accuracy: 0.89 - ETA: 3s - loss: 0.5622 - accuracy: 0.89 - ETA: 3s - loss: 0.5604 - accuracy: 0.89 - ETA: 2s - loss: 0.5605 - accuracy: 0.89 - ETA: 2s - loss: 0.5600 - accuracy: 0.89 - ETA: 2s - loss: 0.5594 - accuracy: 0.89 - ETA: 2s - loss: 0.5591 - accuracy: 0.89 - ETA: 1s - loss: 0.5594 - accuracy: 0.89 - ETA: 1s - loss: 0.5583 - accuracy: 0.89 - ETA: 1s - loss: 0.5586 - accuracy: 0.89 - ETA: 1s - loss: 0.5584 - accuracy: 0.89 - ETA: 0s - loss: 0.5581 - accuracy: 0.89 - ETA: 0s - loss: 0.5582 - accuracy: 0.89 - ETA: 0s - loss: 0.5580 - accuracy: 0.89 - ETA: 0s - loss: 0.5588 - accuracy: 0.89 - ETA: 0s - loss: 0.5587 - accuracy: 0.89 - ETA: 0s - loss: 0.5588 - accuracy: 0.89 - 7s 223ms/step - loss: 0.5577 - accuracy: 0.8964 - val_loss: 0.5759 - val_accuracy: 0.8465\n",
      "Epoch 17/20\n",
      "30/30 [==============================] - ETA: 26s - loss: 0.5697 - accuracy: 0.894 - ETA: 14s - loss: 0.5605 - accuracy: 0.901 - ETA: 10s - loss: 0.5558 - accuracy: 0.897 - ETA: 8s - loss: 0.5567 - accuracy: 0.900 - ETA: 6s - loss: 0.5565 - accuracy: 0.90 - ETA: 5s - loss: 0.5551 - accuracy: 0.90 - ETA: 5s - loss: 0.5532 - accuracy: 0.90 - ETA: 4s - loss: 0.5522 - accuracy: 0.90 - ETA: 4s - loss: 0.5532 - accuracy: 0.90 - ETA: 3s - loss: 0.5537 - accuracy: 0.90 - ETA: 3s - loss: 0.5543 - accuracy: 0.90 - ETA: 3s - loss: 0.5553 - accuracy: 0.90 - ETA: 2s - loss: 0.5534 - accuracy: 0.90 - ETA: 2s - loss: 0.5528 - accuracy: 0.90 - ETA: 2s - loss: 0.5539 - accuracy: 0.90 - ETA: 2s - loss: 0.5540 - accuracy: 0.90 - ETA: 1s - loss: 0.5539 - accuracy: 0.90 - ETA: 1s - loss: 0.5538 - accuracy: 0.90 - ETA: 1s - loss: 0.5538 - accuracy: 0.90 - ETA: 1s - loss: 0.5542 - accuracy: 0.90 - ETA: 1s - loss: 0.5543 - accuracy: 0.90 - ETA: 1s - loss: 0.5546 - accuracy: 0.90 - ETA: 0s - loss: 0.5547 - accuracy: 0.90 - ETA: 0s - loss: 0.5551 - accuracy: 0.90 - ETA: 0s - loss: 0.5554 - accuracy: 0.90 - ETA: 0s - loss: 0.5556 - accuracy: 0.90 - ETA: 0s - loss: 0.5553 - accuracy: 0.90 - ETA: 0s - loss: 0.5553 - accuracy: 0.90 - ETA: 0s - loss: 0.5549 - accuracy: 0.90 - 6s 201ms/step - loss: 0.5554 - accuracy: 0.9017 - val_loss: 0.5744 - val_accuracy: 0.8569\n"
     ]
    },
    {
     "name": "stdout",
     "output_type": "stream",
     "text": [
      "Epoch 18/20\n",
      "30/30 [==============================] - ETA: 36s - loss: 0.5450 - accuracy: 0.902 - ETA: 19s - loss: 0.5556 - accuracy: 0.902 - ETA: 13s - loss: 0.5552 - accuracy: 0.903 - ETA: 10s - loss: 0.5508 - accuracy: 0.910 - ETA: 8s - loss: 0.5507 - accuracy: 0.907 - ETA: 7s - loss: 0.5513 - accuracy: 0.90 - ETA: 6s - loss: 0.5512 - accuracy: 0.90 - ETA: 5s - loss: 0.5531 - accuracy: 0.90 - ETA: 5s - loss: 0.5536 - accuracy: 0.90 - ETA: 4s - loss: 0.5549 - accuracy: 0.90 - ETA: 4s - loss: 0.5542 - accuracy: 0.90 - ETA: 3s - loss: 0.5536 - accuracy: 0.90 - ETA: 3s - loss: 0.5538 - accuracy: 0.90 - ETA: 3s - loss: 0.5541 - accuracy: 0.90 - ETA: 2s - loss: 0.5529 - accuracy: 0.90 - ETA: 2s - loss: 0.5526 - accuracy: 0.90 - ETA: 2s - loss: 0.5515 - accuracy: 0.90 - ETA: 2s - loss: 0.5514 - accuracy: 0.90 - ETA: 1s - loss: 0.5507 - accuracy: 0.90 - ETA: 1s - loss: 0.5507 - accuracy: 0.90 - ETA: 1s - loss: 0.5510 - accuracy: 0.90 - ETA: 1s - loss: 0.5514 - accuracy: 0.91 - ETA: 1s - loss: 0.5516 - accuracy: 0.91 - ETA: 0s - loss: 0.5519 - accuracy: 0.91 - ETA: 0s - loss: 0.5523 - accuracy: 0.91 - ETA: 0s - loss: 0.5523 - accuracy: 0.90 - ETA: 0s - loss: 0.5521 - accuracy: 0.90 - ETA: 0s - loss: 0.5522 - accuracy: 0.90 - ETA: 0s - loss: 0.5519 - accuracy: 0.90 - 6s 209ms/step - loss: 0.5528 - accuracy: 0.9089 - val_loss: 0.5726 - val_accuracy: 0.8553\n",
      "Epoch 19/20\n",
      "30/30 [==============================] - ETA: 44s - loss: 0.5419 - accuracy: 0.921 - ETA: 23s - loss: 0.5332 - accuracy: 0.931 - ETA: 15s - loss: 0.5377 - accuracy: 0.921 - ETA: 12s - loss: 0.5383 - accuracy: 0.912 - ETA: 10s - loss: 0.5412 - accuracy: 0.909 - ETA: 8s - loss: 0.5426 - accuracy: 0.908 - ETA: 7s - loss: 0.5455 - accuracy: 0.90 - ETA: 6s - loss: 0.5454 - accuracy: 0.90 - ETA: 6s - loss: 0.5453 - accuracy: 0.91 - ETA: 5s - loss: 0.5456 - accuracy: 0.91 - ETA: 4s - loss: 0.5463 - accuracy: 0.91 - ETA: 4s - loss: 0.5464 - accuracy: 0.91 - ETA: 3s - loss: 0.5466 - accuracy: 0.91 - ETA: 3s - loss: 0.5465 - accuracy: 0.91 - ETA: 3s - loss: 0.5469 - accuracy: 0.91 - ETA: 2s - loss: 0.5470 - accuracy: 0.91 - ETA: 2s - loss: 0.5475 - accuracy: 0.91 - ETA: 2s - loss: 0.5474 - accuracy: 0.91 - ETA: 2s - loss: 0.5479 - accuracy: 0.91 - ETA: 1s - loss: 0.5489 - accuracy: 0.91 - ETA: 1s - loss: 0.5484 - accuracy: 0.91 - ETA: 1s - loss: 0.5488 - accuracy: 0.91 - ETA: 1s - loss: 0.5491 - accuracy: 0.91 - ETA: 1s - loss: 0.5495 - accuracy: 0.91 - ETA: 0s - loss: 0.5491 - accuracy: 0.91 - ETA: 0s - loss: 0.5486 - accuracy: 0.91 - ETA: 0s - loss: 0.5491 - accuracy: 0.91 - ETA: 0s - loss: 0.5495 - accuracy: 0.91 - ETA: 0s - loss: 0.5498 - accuracy: 0.91 - 6s 211ms/step - loss: 0.5488 - accuracy: 0.9150 - val_loss: 0.5713 - val_accuracy: 0.8568\n",
      "Epoch 20/20\n",
      "30/30 [==============================] - ETA: 25s - loss: 0.5438 - accuracy: 0.925 - ETA: 14s - loss: 0.5504 - accuracy: 0.918 - ETA: 10s - loss: 0.5486 - accuracy: 0.919 - ETA: 8s - loss: 0.5467 - accuracy: 0.912 - ETA: 6s - loss: 0.5480 - accuracy: 0.90 - ETA: 5s - loss: 0.5489 - accuracy: 0.90 - ETA: 5s - loss: 0.5469 - accuracy: 0.90 - ETA: 4s - loss: 0.5462 - accuracy: 0.90 - ETA: 4s - loss: 0.5466 - accuracy: 0.91 - ETA: 3s - loss: 0.5462 - accuracy: 0.91 - ETA: 3s - loss: 0.5454 - accuracy: 0.91 - ETA: 3s - loss: 0.5450 - accuracy: 0.91 - ETA: 2s - loss: 0.5448 - accuracy: 0.91 - ETA: 2s - loss: 0.5447 - accuracy: 0.91 - ETA: 2s - loss: 0.5439 - accuracy: 0.91 - ETA: 2s - loss: 0.5445 - accuracy: 0.91 - ETA: 1s - loss: 0.5436 - accuracy: 0.91 - ETA: 1s - loss: 0.5429 - accuracy: 0.91 - ETA: 1s - loss: 0.5440 - accuracy: 0.91 - ETA: 1s - loss: 0.5448 - accuracy: 0.92 - ETA: 1s - loss: 0.5452 - accuracy: 0.92 - ETA: 1s - loss: 0.5453 - accuracy: 0.91 - ETA: 0s - loss: 0.5450 - accuracy: 0.92 - ETA: 0s - loss: 0.5451 - accuracy: 0.92 - ETA: 0s - loss: 0.5450 - accuracy: 0.92 - ETA: 0s - loss: 0.5453 - accuracy: 0.92 - ETA: 0s - loss: 0.5453 - accuracy: 0.92 - ETA: 0s - loss: 0.5462 - accuracy: 0.92 - ETA: 0s - loss: 0.5465 - accuracy: 0.92 - 6s 202ms/step - loss: 0.5479 - accuracy: 0.9205 - val_loss: 0.5703 - val_accuracy: 0.8579\n"
     ]
    },
    {
     "data": {
      "text/plain": [
       "<tensorflow.python.keras.callbacks.History at 0x1db1634e708>"
      ]
     },
     "execution_count": 70,
     "metadata": {},
     "output_type": "execute_result"
    }
   ],
   "source": [
    "model.fit(train_data.shuffle(10000).batch(512),\n",
    "          epochs=20,\n",
    "          validation_data=validation_data.batch(512),\n",
    "          verbose=1)"
   ]
  },
  {
   "cell_type": "code",
   "execution_count": 71,
   "metadata": {},
   "outputs": [
    {
     "data": {
      "text/plain": [
       "array([[0.00691952]], dtype=float32)"
      ]
     },
     "execution_count": 71,
     "metadata": {},
     "output_type": "execute_result"
    }
   ],
   "source": [
    "model.predict(['this a bad movie'])"
   ]
  },
  {
   "cell_type": "code",
   "execution_count": 72,
   "metadata": {},
   "outputs": [
    {
     "data": {
      "text/plain": [
       "array([[0.00585464]], dtype=float32)"
      ]
     },
     "execution_count": 72,
     "metadata": {},
     "output_type": "execute_result"
    }
   ],
   "source": [
    "model.predict(['this a worst movie'])"
   ]
  },
  {
   "cell_type": "code",
   "execution_count": 73,
   "metadata": {},
   "outputs": [
    {
     "data": {
      "text/plain": [
       "array([[0.74486524]], dtype=float32)"
      ]
     },
     "execution_count": 73,
     "metadata": {},
     "output_type": "execute_result"
    }
   ],
   "source": [
    "model.predict(['this is a good movie'])"
   ]
  },
  {
   "cell_type": "code",
   "execution_count": 75,
   "metadata": {},
   "outputs": [
    {
     "name": "stdout",
     "output_type": "stream",
     "text": [
      "loss: 0.574\n",
      "accuracy: 0.848\n"
     ]
    }
   ],
   "source": [
    "results = model.evaluate(test_data.batch(512), verbose=2)\n",
    "\n",
    "for name, value in zip(model.metrics_names, results):\n",
    "  print(\"%s: %.3f\" % (name, value))"
   ]
  },
  {
   "cell_type": "code",
   "execution_count": null,
   "metadata": {},
   "outputs": [],
   "source": []
  }
 ],
 "metadata": {
  "kernelspec": {
   "display_name": "Python 3",
   "language": "python",
   "name": "python3"
  },
  "language_info": {
   "codemirror_mode": {
    "name": "ipython",
    "version": 3
   },
   "file_extension": ".py",
   "mimetype": "text/x-python",
   "name": "python",
   "nbconvert_exporter": "python",
   "pygments_lexer": "ipython3",
   "version": "3.7.4"
  }
 },
 "nbformat": 4,
 "nbformat_minor": 2
}
